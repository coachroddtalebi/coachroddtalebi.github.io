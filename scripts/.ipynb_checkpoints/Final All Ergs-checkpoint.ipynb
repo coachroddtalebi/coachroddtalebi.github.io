{
 "cells": [
  {
   "cell_type": "markdown",
   "metadata": {},
   "source": [
    "# All Ergs doc\n",
    "\n",
    "Read in 'Roster' for current roster names.\n",
    "\n",
    "Process 30min data and 6k (need weight for adjusted scores) data for individual graphs.\n",
    "\n",
    "Then process team wide plot."
   ]
  },
  {
   "cell_type": "code",
   "execution_count": 1,
   "metadata": {
    "collapsed": true
   },
   "outputs": [],
   "source": [
    "# packages\n",
    "from datetime import date, time, datetime, timedelta\n",
    "import math\n",
    "import pandas as pd\n",
    "import os.path\n",
    "import plotly.plotly as py\n",
    "import plotly.graph_objs as go\n",
    "import plotly.tools as tls"
   ]
  },
  {
   "cell_type": "code",
   "execution_count": 4,
   "metadata": {
    "collapsed": true
   },
   "outputs": [],
   "source": [
    "# directories\n",
    "home_dir = \"/Users/Rodd/Desktop/websites/coachroddtalebi.github.io/\""
   ]
  },
  {
   "cell_type": "code",
   "execution_count": 5,
   "metadata": {
    "collapsed": false
   },
   "outputs": [
    {
     "name": "stdout",
     "output_type": "stream",
     "text": [
      "Current Roster: \n",
      "12 athletes\n",
      "['Hannah Murray', 'Jo Johanna Tomkiewicz', 'Alison Michelle Suhm', 'Courtney Ann Smith', 'Lulu Laurane Saliou', 'Mandy Amanda Grace Davis', 'Bri Brianna Prindle ', 'Julia Frances Snell ', 'Hannah Lachmayr', 'Kaela Frazier', 'Liza Elizabeth Joyce', 'Rachel Boutom']\n"
     ]
    }
   ],
   "source": [
    "# get roster names\n",
    "roster = pd.read_csv(home_dir + '../data/roster.csv',\n",
    "    header = 0)\n",
    "names = roster.loc[roster['Active']=='Active'].loc[roster['Side']!='Coxswain','Full Name'].tolist()\n",
    "\n",
    "print \"Current Roster: \\n\", len(names), \"athletes\\n\", names"
   ]
  },
  {
   "cell_type": "markdown",
   "metadata": {},
   "source": [
    "# Misc Functions"
   ]
  },
  {
   "cell_type": "code",
   "execution_count": 6,
   "metadata": {
    "collapsed": false
   },
   "outputs": [
    {
     "data": {
      "text/plain": [
       "'\\n# Example:\\nerg_split = \"2:32.3\"\\na=convert_split(erg_split)\\nprint(a.strftime(\\'%M:%S.%f\\')[:-5])\\n'"
      ]
     },
     "execution_count": 6,
     "metadata": {},
     "output_type": "execute_result"
    }
   ],
   "source": [
    "def convert_split(erg_split):\n",
    "    '''\n",
    "    read in erg_split as a string \"00:00.0\"\n",
    "    process and output as a 'datetime' object (not just time)\n",
    "    '''\n",
    "    #split should be string\n",
    "    erg_min, other = erg_split.split(':')\n",
    "    erg_sec, erg_Msec = other.split('.')\n",
    "    \n",
    "    erg_min = int(erg_min)\n",
    "    erg_sec = int(erg_sec)\n",
    "    erg_Msec = int(float(erg_Msec)/10.0*1000000)\n",
    "\n",
    "    return(datetime(year=2017,month=1,day=1,minute=erg_min, second=erg_sec, microsecond=erg_Msec))\n",
    "\n",
    "'''\n",
    "# Example:\n",
    "erg_split = \"2:32.3\"\n",
    "a=convert_split(erg_split)\n",
    "print(a.strftime('%M:%S.%f')[:-5])\n",
    "'''"
   ]
  },
  {
   "cell_type": "code",
   "execution_count": 7,
   "metadata": {
    "collapsed": true
   },
   "outputs": [],
   "source": [
    "def get_split(raw_watts):\n",
    "    '''\n",
    "    Convert watts into erg split as 'string'\n",
    "    ...use convert_split() to convert to datetime\n",
    "    '''\n",
    "    pace = (2.80/float(raw_watts))**(1/3.0) #now in seconds\n",
    "    pace = round(pace*500,1)\n",
    "    \n",
    "    # now reformat from seconds to string\n",
    "    minu = int(math.floor(pace/60.0))\n",
    "    sec = int(math.floor(pace%60))\n",
    "    micro = int(round((pace%1)*10))\n",
    "    \n",
    "    return str(minu)+\":\"+str(sec)+\".\"+str(micro)"
   ]
  },
  {
   "cell_type": "code",
   "execution_count": 8,
   "metadata": {
    "collapsed": true
   },
   "outputs": [],
   "source": [
    "def get_watts(raw_split):\n",
    "    '''\n",
    "    Convert split, as string, into watts\n",
    "    '''\n",
    "    pace = convert_split(raw_split).time()\n",
    "    pace = (pace.minute*60+pace.second+pace.microsecond/1000000.0) / 500\n",
    "    watts = 2.80/pace**3\n",
    "    return watts"
   ]
  },
  {
   "cell_type": "code",
   "execution_count": 9,
   "metadata": {
    "collapsed": true
   },
   "outputs": [],
   "source": [
    "def check_watts(row):\n",
    "    '''\n",
    "    Check a row to see if the rower inputed watts.\n",
    "    If it doesn't see a number it will convert the ave split to watts\n",
    "    '''\n",
    "    #if type(row['Watts']) is not int:\n",
    "    try:\n",
    "        row['Watts'] = int(row['Watts'])\n",
    "    except ValueError:\n",
    "        row['Watts'] = int(get_watts(row['AveSplit']))\n",
    "    return row"
   ]
  },
  {
   "cell_type": "markdown",
   "metadata": {},
   "source": [
    "# 30min Pieces"
   ]
  },
  {
   "cell_type": "code",
   "execution_count": 10,
   "metadata": {
    "collapsed": false
   },
   "outputs": [
    {
     "ename": "IOError",
     "evalue": "File /Users/Rodd/Desktop/websites/coachroddtalebi.github.io/scripts/data/30min.csv does not exist",
     "output_type": "error",
     "traceback": [
      "\u001b[0;31m---------------------------------------------------------------------------\u001b[0m",
      "\u001b[0;31mIOError\u001b[0m                                   Traceback (most recent call last)",
      "\u001b[0;32m<ipython-input-10-6a9d4d18d011>\u001b[0m in \u001b[0;36m<module>\u001b[0;34m()\u001b[0m\n\u001b[1;32m      4\u001b[0m     \u001b[0mheader\u001b[0m \u001b[0;34m=\u001b[0m \u001b[0;36m0\u001b[0m\u001b[0;34m,\u001b[0m \u001b[0;31m#header is in first line\u001b[0m\u001b[0;34m\u001b[0m\u001b[0m\n\u001b[1;32m      5\u001b[0m     \u001b[0mparse_dates\u001b[0m \u001b[0;34m=\u001b[0m \u001b[0;34m[\u001b[0m\u001b[0;36m0\u001b[0m\u001b[0;34m]\u001b[0m\u001b[0;34m,\u001b[0m\u001b[0;34m\u001b[0m\u001b[0m\n\u001b[0;32m----> 6\u001b[0;31m     \u001b[0minfer_datetime_format\u001b[0m \u001b[0;34m=\u001b[0m \u001b[0mTrue\u001b[0m\u001b[0;34m\u001b[0m\u001b[0m\n\u001b[0m\u001b[1;32m      7\u001b[0m     )\n\u001b[1;32m      8\u001b[0m \u001b[0;34m\u001b[0m\u001b[0m\n",
      "\u001b[0;32m/Users/Rodd/anaconda2/lib/python2.7/site-packages/pandas/io/parsers.pyc\u001b[0m in \u001b[0;36mparser_f\u001b[0;34m(filepath_or_buffer, sep, delimiter, header, names, index_col, usecols, squeeze, prefix, mangle_dupe_cols, dtype, engine, converters, true_values, false_values, skipinitialspace, skiprows, skipfooter, nrows, na_values, keep_default_na, na_filter, verbose, skip_blank_lines, parse_dates, infer_datetime_format, keep_date_col, date_parser, dayfirst, iterator, chunksize, compression, thousands, decimal, lineterminator, quotechar, quoting, escapechar, comment, encoding, dialect, tupleize_cols, error_bad_lines, warn_bad_lines, skip_footer, doublequote, delim_whitespace, as_recarray, compact_ints, use_unsigned, low_memory, buffer_lines, memory_map, float_precision)\u001b[0m\n\u001b[1;32m    560\u001b[0m                     skip_blank_lines=skip_blank_lines)\n\u001b[1;32m    561\u001b[0m \u001b[0;34m\u001b[0m\u001b[0m\n\u001b[0;32m--> 562\u001b[0;31m         \u001b[0;32mreturn\u001b[0m \u001b[0m_read\u001b[0m\u001b[0;34m(\u001b[0m\u001b[0mfilepath_or_buffer\u001b[0m\u001b[0;34m,\u001b[0m \u001b[0mkwds\u001b[0m\u001b[0;34m)\u001b[0m\u001b[0;34m\u001b[0m\u001b[0m\n\u001b[0m\u001b[1;32m    563\u001b[0m \u001b[0;34m\u001b[0m\u001b[0m\n\u001b[1;32m    564\u001b[0m     \u001b[0mparser_f\u001b[0m\u001b[0;34m.\u001b[0m\u001b[0m__name__\u001b[0m \u001b[0;34m=\u001b[0m \u001b[0mname\u001b[0m\u001b[0;34m\u001b[0m\u001b[0m\n",
      "\u001b[0;32m/Users/Rodd/anaconda2/lib/python2.7/site-packages/pandas/io/parsers.pyc\u001b[0m in \u001b[0;36m_read\u001b[0;34m(filepath_or_buffer, kwds)\u001b[0m\n\u001b[1;32m    313\u001b[0m \u001b[0;34m\u001b[0m\u001b[0m\n\u001b[1;32m    314\u001b[0m     \u001b[0;31m# Create the parser.\u001b[0m\u001b[0;34m\u001b[0m\u001b[0;34m\u001b[0m\u001b[0m\n\u001b[0;32m--> 315\u001b[0;31m     \u001b[0mparser\u001b[0m \u001b[0;34m=\u001b[0m \u001b[0mTextFileReader\u001b[0m\u001b[0;34m(\u001b[0m\u001b[0mfilepath_or_buffer\u001b[0m\u001b[0;34m,\u001b[0m \u001b[0;34m**\u001b[0m\u001b[0mkwds\u001b[0m\u001b[0;34m)\u001b[0m\u001b[0;34m\u001b[0m\u001b[0m\n\u001b[0m\u001b[1;32m    316\u001b[0m \u001b[0;34m\u001b[0m\u001b[0m\n\u001b[1;32m    317\u001b[0m     \u001b[0;32mif\u001b[0m \u001b[0;34m(\u001b[0m\u001b[0mnrows\u001b[0m \u001b[0;32mis\u001b[0m \u001b[0;32mnot\u001b[0m \u001b[0mNone\u001b[0m\u001b[0;34m)\u001b[0m \u001b[0;32mand\u001b[0m \u001b[0;34m(\u001b[0m\u001b[0mchunksize\u001b[0m \u001b[0;32mis\u001b[0m \u001b[0;32mnot\u001b[0m \u001b[0mNone\u001b[0m\u001b[0;34m)\u001b[0m\u001b[0;34m:\u001b[0m\u001b[0;34m\u001b[0m\u001b[0m\n",
      "\u001b[0;32m/Users/Rodd/anaconda2/lib/python2.7/site-packages/pandas/io/parsers.pyc\u001b[0m in \u001b[0;36m__init__\u001b[0;34m(self, f, engine, **kwds)\u001b[0m\n\u001b[1;32m    643\u001b[0m             \u001b[0mself\u001b[0m\u001b[0;34m.\u001b[0m\u001b[0moptions\u001b[0m\u001b[0;34m[\u001b[0m\u001b[0;34m'has_index_names'\u001b[0m\u001b[0;34m]\u001b[0m \u001b[0;34m=\u001b[0m \u001b[0mkwds\u001b[0m\u001b[0;34m[\u001b[0m\u001b[0;34m'has_index_names'\u001b[0m\u001b[0;34m]\u001b[0m\u001b[0;34m\u001b[0m\u001b[0m\n\u001b[1;32m    644\u001b[0m \u001b[0;34m\u001b[0m\u001b[0m\n\u001b[0;32m--> 645\u001b[0;31m         \u001b[0mself\u001b[0m\u001b[0;34m.\u001b[0m\u001b[0m_make_engine\u001b[0m\u001b[0;34m(\u001b[0m\u001b[0mself\u001b[0m\u001b[0;34m.\u001b[0m\u001b[0mengine\u001b[0m\u001b[0;34m)\u001b[0m\u001b[0;34m\u001b[0m\u001b[0m\n\u001b[0m\u001b[1;32m    646\u001b[0m \u001b[0;34m\u001b[0m\u001b[0m\n\u001b[1;32m    647\u001b[0m     \u001b[0;32mdef\u001b[0m \u001b[0mclose\u001b[0m\u001b[0;34m(\u001b[0m\u001b[0mself\u001b[0m\u001b[0;34m)\u001b[0m\u001b[0;34m:\u001b[0m\u001b[0;34m\u001b[0m\u001b[0m\n",
      "\u001b[0;32m/Users/Rodd/anaconda2/lib/python2.7/site-packages/pandas/io/parsers.pyc\u001b[0m in \u001b[0;36m_make_engine\u001b[0;34m(self, engine)\u001b[0m\n\u001b[1;32m    797\u001b[0m     \u001b[0;32mdef\u001b[0m \u001b[0m_make_engine\u001b[0m\u001b[0;34m(\u001b[0m\u001b[0mself\u001b[0m\u001b[0;34m,\u001b[0m \u001b[0mengine\u001b[0m\u001b[0;34m=\u001b[0m\u001b[0;34m'c'\u001b[0m\u001b[0;34m)\u001b[0m\u001b[0;34m:\u001b[0m\u001b[0;34m\u001b[0m\u001b[0m\n\u001b[1;32m    798\u001b[0m         \u001b[0;32mif\u001b[0m \u001b[0mengine\u001b[0m \u001b[0;34m==\u001b[0m \u001b[0;34m'c'\u001b[0m\u001b[0;34m:\u001b[0m\u001b[0;34m\u001b[0m\u001b[0m\n\u001b[0;32m--> 799\u001b[0;31m             \u001b[0mself\u001b[0m\u001b[0;34m.\u001b[0m\u001b[0m_engine\u001b[0m \u001b[0;34m=\u001b[0m \u001b[0mCParserWrapper\u001b[0m\u001b[0;34m(\u001b[0m\u001b[0mself\u001b[0m\u001b[0;34m.\u001b[0m\u001b[0mf\u001b[0m\u001b[0;34m,\u001b[0m \u001b[0;34m**\u001b[0m\u001b[0mself\u001b[0m\u001b[0;34m.\u001b[0m\u001b[0moptions\u001b[0m\u001b[0;34m)\u001b[0m\u001b[0;34m\u001b[0m\u001b[0m\n\u001b[0m\u001b[1;32m    800\u001b[0m         \u001b[0;32melse\u001b[0m\u001b[0;34m:\u001b[0m\u001b[0;34m\u001b[0m\u001b[0m\n\u001b[1;32m    801\u001b[0m             \u001b[0;32mif\u001b[0m \u001b[0mengine\u001b[0m \u001b[0;34m==\u001b[0m \u001b[0;34m'python'\u001b[0m\u001b[0;34m:\u001b[0m\u001b[0;34m\u001b[0m\u001b[0m\n",
      "\u001b[0;32m/Users/Rodd/anaconda2/lib/python2.7/site-packages/pandas/io/parsers.pyc\u001b[0m in \u001b[0;36m__init__\u001b[0;34m(self, src, **kwds)\u001b[0m\n\u001b[1;32m   1211\u001b[0m         \u001b[0mkwds\u001b[0m\u001b[0;34m[\u001b[0m\u001b[0;34m'allow_leading_cols'\u001b[0m\u001b[0;34m]\u001b[0m \u001b[0;34m=\u001b[0m \u001b[0mself\u001b[0m\u001b[0;34m.\u001b[0m\u001b[0mindex_col\u001b[0m \u001b[0;32mis\u001b[0m \u001b[0;32mnot\u001b[0m \u001b[0mFalse\u001b[0m\u001b[0;34m\u001b[0m\u001b[0m\n\u001b[1;32m   1212\u001b[0m \u001b[0;34m\u001b[0m\u001b[0m\n\u001b[0;32m-> 1213\u001b[0;31m         \u001b[0mself\u001b[0m\u001b[0;34m.\u001b[0m\u001b[0m_reader\u001b[0m \u001b[0;34m=\u001b[0m \u001b[0m_parser\u001b[0m\u001b[0;34m.\u001b[0m\u001b[0mTextReader\u001b[0m\u001b[0;34m(\u001b[0m\u001b[0msrc\u001b[0m\u001b[0;34m,\u001b[0m \u001b[0;34m**\u001b[0m\u001b[0mkwds\u001b[0m\u001b[0;34m)\u001b[0m\u001b[0;34m\u001b[0m\u001b[0m\n\u001b[0m\u001b[1;32m   1214\u001b[0m \u001b[0;34m\u001b[0m\u001b[0m\n\u001b[1;32m   1215\u001b[0m         \u001b[0;31m# XXX\u001b[0m\u001b[0;34m\u001b[0m\u001b[0;34m\u001b[0m\u001b[0m\n",
      "\u001b[0;32mpandas/parser.pyx\u001b[0m in \u001b[0;36mpandas.parser.TextReader.__cinit__ (pandas/parser.c:3427)\u001b[0;34m()\u001b[0m\n",
      "\u001b[0;32mpandas/parser.pyx\u001b[0m in \u001b[0;36mpandas.parser.TextReader._setup_parser_source (pandas/parser.c:6861)\u001b[0;34m()\u001b[0m\n",
      "\u001b[0;31mIOError\u001b[0m: File /Users/Rodd/Desktop/websites/coachroddtalebi.github.io/scripts/data/30min.csv does not exist"
     ]
    }
   ],
   "source": [
    "# get 30min piece scores\n",
    "scores30 = pd.read_csv(\n",
    "    home_dir + 'data/30min.csv',\n",
    "    header = 0, #header is in first line\n",
    "    parse_dates = [0],\n",
    "    infer_datetime_format = True\n",
    "    )\n",
    "\n",
    "# sort Names and Date\n",
    "scores30 = scores30.sort_values(by=['Name', 'Timestamp'])"
   ]
  },
  {
   "cell_type": "code",
   "execution_count": 9,
   "metadata": {
    "collapsed": true
   },
   "outputs": [],
   "source": [
    "# find PRs\n",
    "scores30['PR'] = 0\n",
    "for name in names:\n",
    "    if scores30.loc[scores30['Name']==name].shape[0] > 0:\n",
    "        name_loc = scores30['Name']==name\n",
    "        # get the PR\n",
    "        pr_loc = scores30.loc[name_loc,'Meters'].argmax()\n",
    "        scores30.loc[pr_loc,'PR'] = 1\n",
    "    else:\n",
    "        print \"no 30min data for\", name"
   ]
  },
  {
   "cell_type": "code",
   "execution_count": 31,
   "metadata": {
    "collapsed": false
   },
   "outputs": [
    {
     "data": {
      "text/plain": [
       "\"\\n#Example:\\nfig = plot_30min_intervals(name)\\npy.iplot(fig, filename = name+'-30min')\\n\""
      ]
     },
     "execution_count": 31,
     "metadata": {},
     "output_type": "execute_result"
    }
   ],
   "source": [
    "def plot_30min_intervals(name):\n",
    "    '''\n",
    "    for the given name, create a plot for the time intervals: 10min, 20min, 30min\n",
    "    \n",
    "    Documentation for plotting:\n",
    "    # https://plot.ly/python/reference/#layout-yaxis\n",
    "    '''\n",
    "    traces = []\n",
    "    name_loc = scores30['Name']==name\n",
    "    dates = scores30.loc[name_loc,'Timestamp'].apply(lambda x: x.to_datetime().date()).tolist()\n",
    "    for i in range(scores30.loc[name_loc].shape[0]):\n",
    "        try:\n",
    "            times = scores30.loc[name_loc,['10min','20min','30min','AveSplit']].iloc[i].apply(\n",
    "                                                                                lambda x: convert_split(x))\n",
    "        except ValueError:\n",
    "            # sometimes the rowers input the data incorrectly\n",
    "            print \"error with data point\"\n",
    "            print scores30.loc[name_loc,['10min','20min','30min','AveSplit']].iloc[i]\n",
    "            continue\n",
    "\n",
    "        trace = go.Scatter(\n",
    "            x=[10,20,30],\n",
    "            y=times.tolist()[:-1],\n",
    "            line=dict(\n",
    "                shape='spline'\n",
    "                ),\n",
    "            name=dates[i],\n",
    "            hoverinfo='text',\n",
    "            hovertext=dates[i].strftime('%b%d')+'<br>Ave: '+times[-1].strftime('%M:%S.%f')[:-5]\n",
    "            )\n",
    "        traces.append(trace)\n",
    "\n",
    "    layout = go.Layout(\n",
    "        title = \"10min Splits - \" + name,\n",
    "        xaxis=dict(\n",
    "            title=\"Minutes\"\n",
    "            ),\n",
    "        yaxis=dict(\n",
    "            title=\"Ave Split\",\n",
    "            tickformat='%M:%S.%f'\n",
    "            )\n",
    "        )\n",
    "    \n",
    "    return go.Figure(data=traces, layout=layout)\n",
    "\n",
    "'''\n",
    "#Example:\n",
    "fig = plot_30min_intervals(name)\n",
    "py.iplot(fig, filename = name+'-30min')\n",
    "'''"
   ]
  },
  {
   "cell_type": "markdown",
   "metadata": {},
   "source": [
    "# 6km Pieces"
   ]
  },
  {
   "cell_type": "code",
   "execution_count": 11,
   "metadata": {
    "collapsed": true
   },
   "outputs": [],
   "source": [
    "# get 6km piece scores\n",
    "scores6k = pd.read_csv(\n",
    "    home_dir + 'data/6k.csv',\n",
    "    header = 0, #header is in first line\n",
    "    parse_dates = [0],\n",
    "    infer_datetime_format = True\n",
    "    )\n",
    "\n",
    "# sort Names and Date\n",
    "scores6k = scores6k.sort_values(by=['Name', 'Timestamp'])"
   ]
  },
  {
   "cell_type": "code",
   "execution_count": 12,
   "metadata": {
    "collapsed": true
   },
   "outputs": [],
   "source": [
    "# get watts \n",
    "scores6k = scores6k.apply(lambda x: check_watts(x), axis=1)\n",
    "\n",
    "# find PRs with watts\n",
    "scores6k['PR'] = 0\n",
    "for name in names:\n",
    "    if scores6k.loc[scores6k['Name']==name].shape[0] > 0:\n",
    "        name_loc = scores6k['Name']==name\n",
    "        # get the PR\n",
    "        pr_loc = scores6k.loc[name_loc,'Watts'].argmax()\n",
    "        scores6k.loc[pr_loc,'PR'] = 1  \n",
    "    else:\n",
    "        print \"no 6k data for\", name"
   ]
  },
  {
   "cell_type": "code",
   "execution_count": 56,
   "metadata": {
    "collapsed": false
   },
   "outputs": [
    {
     "data": {
      "text/plain": [
       "\"\\n# Example\\nfig = plot_6k_intervals(name)\\npy.iplot(fig, filename = name + '-6km')\\n\""
      ]
     },
     "execution_count": 56,
     "metadata": {},
     "output_type": "execute_result"
    }
   ],
   "source": [
    "def plot_6k_intervals(name):\n",
    "    '''\n",
    "    take in a name, and find all 6k scores\n",
    "    plot each erg test individually over the time steps: each 1km interval\n",
    "    if the data was not properly entered (no complete data for each 1km), the don't plot\n",
    "    '''\n",
    "    traces = []\n",
    "    name_loc = scores6k['Name']==name\n",
    "    dates = scores6k.loc[name_loc,'Timestamp'].apply(lambda x: x.to_datetime().date()).tolist()\n",
    "\n",
    "    for i in range(scores6k.loc[name_loc].shape[0]):\n",
    "        try:\n",
    "            times = scores6k.loc[name_loc,['1000m','2000m','3000m', '4000m', '5000m', '6000m', 'AveSplit']].iloc[i].apply(\n",
    "                                                                                                                    lambda x: convert_split(x))\n",
    "        except ValueError:\n",
    "            print \"error with 6km erg test for\", name\n",
    "            print scores6k.loc[name_loc,['1000m','2000m','3000m', '4000m', '5000m', '6000m', 'AveSplit']].iloc[i]\n",
    "            continue\n",
    "\n",
    "        trace = go.Scatter(\n",
    "            x=[1000,2000,3000,4000,5000,6000],\n",
    "            y=times.tolist()[:-1],\n",
    "            line=dict(\n",
    "                shape='spline'\n",
    "                ),\n",
    "            name=dates[i],\n",
    "            hoverinfo='text',\n",
    "            hovertext=dates[i].strftime('%b%d')+'<br>Ave: '+times[-1].strftime('%M:%S.%f')[:-5]\n",
    "            )\n",
    "        traces.append(trace)\n",
    "\n",
    "    layout = go.Layout(\n",
    "        title = \"1km Splits - \" + name,\n",
    "        xaxis=dict(\n",
    "            title=\"Meters\"\n",
    "            ),\n",
    "        yaxis=dict(\n",
    "            title=\"Ave Split\",\n",
    "            tickformat='%M:%S.%f'\n",
    "            )\n",
    "        )\n",
    "    \n",
    "    return go.Figure(data=traces, layout=layout)\n",
    "'''\n",
    "# Example\n",
    "fig = plot_6k_intervals(name)\n",
    "py.iplot(fig, filename = name + '-6km')\n",
    "'''"
   ]
  },
  {
   "cell_type": "markdown",
   "metadata": {},
   "source": [
    "# Weight Adjusted 6ks"
   ]
  },
  {
   "cell_type": "code",
   "execution_count": 15,
   "metadata": {
    "collapsed": true
   },
   "outputs": [],
   "source": [
    "# read in weights for each rower\n",
    "weights = pd.read_csv(\n",
    "    home_dir + 'data/weight.csv',\n",
    "    header = 0, #header is in first line\n",
    "    parse_dates = [0],\n",
    "    infer_datetime_format = True\n",
    "    )\n",
    "\n",
    "# sort Names and Date\n",
    "weights = weights.sort_values(by=['Name', 'Timestamp'])\n",
    "\n",
    "# get dates from Timestamp for 6km and Weights\n",
    "scores6k['Date'] = scores6k['Timestamp'].apply(lambda x: x.date())\n",
    "weights['Date'] = weights['Timestamp'].apply(lambda x: x.date())"
   ]
  },
  {
   "cell_type": "code",
   "execution_count": 16,
   "metadata": {
    "collapsed": false
   },
   "outputs": [
    {
     "data": {
      "text/plain": [
       "'\\n# EXAMPLE\\ncorrected(weight=171.2, split=\"2:11.6\")\\n'"
      ]
     },
     "execution_count": 16,
     "metadata": {},
     "output_type": "execute_result"
    }
   ],
   "source": [
    "'''\n",
    "Wf = [body weight in lbs / 270] raised to the power .222\n",
    "Corrected time = Wf x actual time (seconds)\n",
    "Corrected distance = actual distance / Wf\n",
    "'''\n",
    "\n",
    "def corrected(weight, split=None, distance=None):\n",
    "    '''\n",
    "    Read in weight and split or distance and adjust the score.\n",
    "    \n",
    "    Here is method recommended online (Concept2?):\n",
    "    Wf = [body weight in lbs / 270] raised to the power .222\n",
    "    Corrected time = Wf x actual time (seconds)\n",
    "    Corrected distance = actual distance / Wf\n",
    "    \n",
    "    * split should be read in as string 00:00.0\n",
    "      ...output will be the same\n",
    "    * distance should be in meters\n",
    "    * weight in lbs as float\n",
    "    '''\n",
    "    wf = (weight/270.0)**(2/9.0)\n",
    "    \n",
    "    if split is not None:\n",
    "        pace = convert_split(split).time()\n",
    "        pace = (pace.minute*60+pace.second+pace.microsecond/1000000.0) #to seconds\n",
    "        corr_split = round(wf * pace,1)\n",
    "        \n",
    "        # now reformat from seconds to string\n",
    "        minu = int(math.floor(corr_split/60.0))\n",
    "        sec = int(math.floor(corr_split%60))\n",
    "        micro = int(round((corr_split%1)*10))\n",
    "        \n",
    "        # put it all together\n",
    "        corr_split = str(minu)+\":\"+str(sec)+\".\"+str(micro) \n",
    "    else:\n",
    "        corr_split = None\n",
    "    \n",
    "    if distance is not None:\n",
    "        corr_distance = distance / wf\n",
    "    else:\n",
    "        corr_distance = None\n",
    "    \n",
    "    return corr_split, corr_distance\n",
    "\n",
    "'''\n",
    "# EXAMPLE\n",
    "corrected(weight=171.2, split=\"2:11.6\")\n",
    "'''"
   ]
  },
  {
   "cell_type": "code",
   "execution_count": 17,
   "metadata": {
    "collapsed": true
   },
   "outputs": [],
   "source": [
    "# Adjust each 6k score with rower's weight on that day\n",
    "scores6k['CorrSplit'] = \"00:00.0\"\n",
    "for index, row in scores6k.iterrows():\n",
    "    loc = (weights['Name']==row['Name']) & (weights['Date']==row['Date'])\n",
    "    if sum(loc) == 1: #then there is an instance\n",
    "        weight = weights.loc[loc,'Weight (lbs)']\n",
    "        split = row['AveSplit']\n",
    "        corr_split, _ = corrected(weight=weight, split=split)\n",
    "        scores6k.loc[index,'CorrSplit'] = corr_split\n",
    "    elif sum(loc) > 1:\n",
    "        print \"THERE IS A DUPLICATE WEIGHT FOR\" + weights.loc[loc]\n",
    "    else:\n",
    "        #no entries\n",
    "        pass"
   ]
  },
  {
   "cell_type": "markdown",
   "metadata": {},
   "source": [
    "# Timeline for each rower"
   ]
  },
  {
   "cell_type": "code",
   "execution_count": 18,
   "metadata": {
    "collapsed": false
   },
   "outputs": [
    {
     "data": {
      "text/plain": [
       "\"\\nfig = plot_intervals(name)\\npy.iplot(fig, filename = name + '-Timeline')\\n\""
      ]
     },
     "execution_count": 18,
     "metadata": {},
     "output_type": "execute_result"
    }
   ],
   "source": [
    "def plot_intervals(name):\n",
    "    traces = []\n",
    "\n",
    "    # -------------\n",
    "    # 30min trace\n",
    "    if scores30.loc[scores30['Name']==name].shape[0] > 0:\n",
    "        name_loc = scores30['Name']==name\n",
    "\n",
    "        times = scores30.loc[name_loc,'AveSplit'].apply(lambda x: convert_split(x))\n",
    "        dates = scores30.loc[name_loc,'Timestamp'].apply(lambda x: x.to_datetime())\n",
    "        meters = [str(x[0])+\"<br>\"+str(x[1])+' meters' for _,x in scores30.loc[name_loc,['AveSplit','Meters']].iterrows()]\n",
    "        \n",
    "        trace = go.Scatter(\n",
    "            x=dates,\n",
    "            y=times,\n",
    "            line=dict(\n",
    "                shape='linear'#'spline'\n",
    "                ),\n",
    "            name=\"30min\",\n",
    "            hoverinfo='text', #the 'text' flags tells you to look at hovertext\n",
    "            hovertext = meters\n",
    "            )\n",
    "        traces.append(trace)\n",
    "    else:\n",
    "        print \"no 30min pieces (Timeline) for \" + name\n",
    "        pass\n",
    "      \n",
    "    # -------------\n",
    "    # 6km        \n",
    "    if scores6k.loc[scores6k['Name']==name].shape[0] > 0:\n",
    "        name_loc = scores6k['Name']==name        \n",
    "        times = scores6k.loc[name_loc,'AveSplit'].apply(lambda x: convert_split(x))\n",
    "        dates = scores6k.loc[name_loc,'Timestamp'].apply(lambda x: x.to_datetime())\n",
    "        watts = [str(x[0])+'<br>'+str(x[1])+' watts' for _,x in scores6k.loc[name_loc,['AveSplit','Watts']].iterrows()]\n",
    "        \n",
    "        trace = go.Scatter(\n",
    "            x=dates,\n",
    "            y=times,\n",
    "            line=dict(\n",
    "                shape='linear'#'spline'\n",
    "                ),\n",
    "            name=\"6k\",\n",
    "            hoverinfo='text', #the 'text' flags tells you to look at hovertext\n",
    "            hovertext = watts\n",
    "            )\n",
    "        traces.append(trace)  \n",
    "        \n",
    "        # -------------\n",
    "        # 6km   CORRECTED     \n",
    "        name_loc = (scores6k['Name']==name) & (scores6k['CorrSplit']!=\"00:00.0\")\n",
    "        if sum(name_loc) > 0:\n",
    "            times = scores6k.loc[name_loc,'CorrSplit'].apply(lambda x: convert_split(x))\n",
    "            dates = scores6k.loc[name_loc,'Timestamp'].apply(lambda x: x.to_datetime())\n",
    "            watts = [str(x[0])+\"<br>\"+str(x[1])+' watts' for _,x in scores6k.loc[name_loc,['CorrSplit','Watts']].iterrows()]\n",
    "\n",
    "            trace = go.Scatter(\n",
    "                x=dates,\n",
    "                y=times,\n",
    "                line=dict(\n",
    "                    shape='linear'#'spline'\n",
    "                    ),\n",
    "                name=\"WeightAdj 6k\",\n",
    "                hoverinfo='text', #the 'text' flags tells you to look at hovertext\n",
    "                hovertext = watts\n",
    "                )\n",
    "            traces.append(trace)\n",
    "        else:\n",
    "            print \"not Corrected 6km data (Timeline) for \" + name\n",
    "            pass        \n",
    "        \n",
    "    else:\n",
    "        print \"not 6km data (Timeline) for \" + name\n",
    "        pass\n",
    "    \n",
    "    layout = go.Layout(\n",
    "        title = \"Erg Test Progression for \"+ name,\n",
    "        xaxis=dict(\n",
    "            title=\"Date\"\n",
    "            ),\n",
    "        yaxis=dict(\n",
    "            title=\"Ave Split\",\n",
    "            tickformat='%M:%S.%f'\n",
    "            )\n",
    "        )\n",
    "    \n",
    "    return go.Figure(data=traces, layout=layout)\n",
    "\n",
    "'''\n",
    "fig = plot_intervals(name)\n",
    "py.iplot(fig, filename = name + '-Timeline')\n",
    "'''"
   ]
  },
  {
   "cell_type": "markdown",
   "metadata": {},
   "source": [
    "# Golden Curve\n",
    "\n",
    "[Reference Link](http://www.ergrowing.com/2k-erg-power-profile-calculator/)"
   ]
  },
  {
   "cell_type": "code",
   "execution_count": 19,
   "metadata": {
    "collapsed": true
   },
   "outputs": [],
   "source": [
    "def golden_curve(base2k=None, base6k=None):\n",
    "    '''\n",
    "    Take in Watts for PR and output string split\n",
    "    \n",
    "    Use the PRs from the previous season to update the golden curve.\n",
    "    \n",
    "    Example:\n",
    "    for Spring 2018, use 6k PR from Fall 2017 to create curve and then\n",
    "    plot 2ks for the next season on top of it to see if there is progression\n",
    "    '''\n",
    "    # ASSUMING BASE VALUES ARE WATTS\n",
    "    if base2k is not None:\n",
    "        goal_10sec = get_split(1.73 * base2k)\n",
    "        goal_60sec = get_split(1.53 * base2k)\n",
    "        goal_2k = get_split(base2k)\n",
    "        goal_6k = get_split(0.85 * base2k)\n",
    "        goal_60min = get_split(0.76 * base2k)\n",
    "    \n",
    "    elif base6k is not None:\n",
    "        goal_10sec = get_split(1.73/0.85 * base6k)\n",
    "        goal_60sec = get_split(1.53/0.85 * base6k)\n",
    "        goal_2k = get_split(1/0.85 * base6k)\n",
    "        goal_6k = get_split(base6k)\n",
    "        goal_60min = get_split(0.76/0.85 * base6k)\n",
    "        \n",
    "    else:\n",
    "        print(\"ERROR: no Watts given\")\n",
    "    \n",
    "    return(goal_10sec, goal_60sec, goal_2k, goal_6k, goal_60min)"
   ]
  },
  {
   "cell_type": "code",
   "execution_count": 55,
   "metadata": {
    "collapsed": false
   },
   "outputs": [
    {
     "data": {
      "text/plain": [
       "\"\\n# EXAMPLE:\\nfig = plot_golden_curve(name)\\npy.iplot(fig, filename = name+'-GoldCurve')\\n\""
      ]
     },
     "execution_count": 55,
     "metadata": {},
     "output_type": "execute_result"
    }
   ],
   "source": [
    "# assume PRs already scored\n",
    "def plot_golden_curve(name):\n",
    "    # USING 6K DATA\n",
    "    name_loc = (scores6k['Name']==name) & (scores6k['PR']==1)\n",
    "    if sum(name_loc)==1:\n",
    "        watts6k = scores6k.loc[name_loc, 'Watts']\n",
    "    else:\n",
    "        print \"ERROR: there are more than 1 PR flags for \" + name\n",
    "    \n",
    "    goals_str = list(golden_curve(base6k=watts6k))\n",
    "    goals_split = [convert_split(x) for x in goals_str]\n",
    "    \n",
    "    # get time\n",
    "    # 2k\n",
    "    split = goals_split[2]\n",
    "    split = timedelta(minutes=split.minute, seconds=split.second, microseconds=split.microsecond)\n",
    "    pace = (split*4).total_seconds()\n",
    "    time_2k = pace/60.0\n",
    "\n",
    "    # 6k\n",
    "    split = goals_split[3]\n",
    "    split = timedelta(minutes=split.minute, seconds=split.second, microseconds=split.microsecond)\n",
    "    pace = (split*12).total_seconds()\n",
    "    time_6k = pace/60.0#now in minutes\n",
    "    \n",
    "    display=[] #info for hoverbox\n",
    "    for i, test in enumerate([\"10sec\", \"60sec\", \"2k\", \"6k\", \"60min\"]):\n",
    "        display.append(test + \"<br>\" + goals_str[i])\n",
    "        \n",
    "    trace = go.Scatter(\n",
    "        x=[10/60.0, 1.0, time_2k, time_6k, 60],\n",
    "        y=[1.73,1.53,1.00,.85,.76],\n",
    "        line=dict(\n",
    "            shape='spline'\n",
    "            ),\n",
    "        name=name,\n",
    "        hoverinfo='text', #the 'text' flags tells you to look at hovertext\n",
    "        hovertext = display\n",
    "        )\n",
    "\n",
    "    layout = go.Layout(\n",
    "        title = \"Golden Curve - \" + name,\n",
    "        xaxis=dict(\n",
    "            title=\"Minutes\"\n",
    "            ),\n",
    "        yaxis=dict(\n",
    "            title=\"%of 2k Watts\"\n",
    "            )\n",
    "        )\n",
    "    return go.Figure(data=[trace], layout=layout)\n",
    "\n",
    "\n",
    "'''\n",
    "# EXAMPLE:\n",
    "fig = plot_golden_curve(name)\n",
    "py.iplot(fig, filename = name+'-GoldCurve')\n",
    "'''"
   ]
  },
  {
   "cell_type": "markdown",
   "metadata": {},
   "source": [
    "# Sample Graphs for Rower\n",
    "Randomly picked Lulu"
   ]
  },
  {
   "cell_type": "code",
   "execution_count": 47,
   "metadata": {
    "collapsed": false
   },
   "outputs": [
    {
     "data": {
      "text/plain": [
       "'<iframe id=\"igraph\" scrolling=\"no\" style=\"border:none;\" seamless=\"seamless\" src=\"https://plot.ly/~rodd_talebi/28.embed\" height=\"525\" width=\"100%\"></iframe>'"
      ]
     },
     "execution_count": 47,
     "metadata": {},
     "output_type": "execute_result"
    }
   ],
   "source": [
    "fig = plot_30min_intervals(names[0])\n",
    "link = py.plot(fig, filename = names[0]+'-30min', auto_open=False)\n",
    "tls.get_embed(link)"
   ]
  },
  {
   "cell_type": "code",
   "execution_count": 57,
   "metadata": {
    "collapsed": false
   },
   "outputs": [
    {
     "data": {
      "text/plain": [
       "'<iframe id=\"igraph\" scrolling=\"no\" style=\"border:none;\" seamless=\"seamless\" src=\"https://plot.ly/~rodd_talebi/30.embed\" height=\"525\" width=\"100%\"></iframe>'"
      ]
     },
     "execution_count": 57,
     "metadata": {},
     "output_type": "execute_result"
    }
   ],
   "source": [
    "fig = plot_6k_intervals(names[0])\n",
    "link = py.plot(fig, filename = names[0]+'-6km', auto_open=False)\n",
    "tls.get_embed(link)"
   ]
  },
  {
   "cell_type": "code",
   "execution_count": 53,
   "metadata": {
    "collapsed": false
   },
   "outputs": [
    {
     "data": {
      "text/plain": [
       "'<iframe id=\"igraph\" scrolling=\"no\" style=\"border:none;\" seamless=\"seamless\" src=\"https://plot.ly/~rodd_talebi/32.embed\" height=\"525\" width=\"100%\"></iframe>'"
      ]
     },
     "execution_count": 53,
     "metadata": {},
     "output_type": "execute_result"
    }
   ],
   "source": [
    "fig = plot_intervals(names[0])\n",
    "link = py.plot(fig, filename = names[0]+'-Timeline', auto_open=False)\n",
    "tls.get_embed(link)"
   ]
  },
  {
   "cell_type": "code",
   "execution_count": 58,
   "metadata": {
    "collapsed": false
   },
   "outputs": [
    {
     "data": {
      "text/plain": [
       "'<iframe id=\"igraph\" scrolling=\"no\" style=\"border:none;\" seamless=\"seamless\" src=\"https://plot.ly/~rodd_talebi/34.embed\" height=\"525\" width=\"100%\"></iframe>'"
      ]
     },
     "execution_count": 58,
     "metadata": {},
     "output_type": "execute_result"
    }
   ],
   "source": [
    "fig = plot_golden_curve(names[0])\n",
    "link = py.plot(fig, filename = names[0]+'-GoldCurve', auto_open=False)\n",
    "tls.get_embed(link)"
   ]
  },
  {
   "cell_type": "code",
   "execution_count": 98,
   "metadata": {
    "collapsed": false
   },
   "outputs": [],
   "source": [
    "name_loc = (scores30['Name']==names[0]) & (scores30['PR']==1)\n",
    "dates = scores30.loc[name_loc,'Timestamp'].apply(lambda x: x.to_datetime().date()).tolist()"
   ]
  },
  {
   "cell_type": "markdown",
   "metadata": {},
   "source": [
    "# Coaches' Dashboard"
   ]
  },
  {
   "cell_type": "code",
   "execution_count": 101,
   "metadata": {
    "collapsed": false
   },
   "outputs": [
    {
     "data": {
      "text/plain": [
       "'<iframe id=\"igraph\" scrolling=\"no\" style=\"border:none;\" seamless=\"seamless\" src=\"https://plot.ly/~rodd_talebi/48.embed\" height=\"525\" width=\"100%\"></iframe>'"
      ]
     },
     "execution_count": 101,
     "metadata": {},
     "output_type": "execute_result"
    }
   ],
   "source": [
    "# 30min Averages\n",
    "traces=[]\n",
    "for name in names:\n",
    "    name_loc = (scores30['Name']==name) & (scores30['PR']==1)\n",
    "    if sum(name_loc)==1:\n",
    "        dates = scores30.loc[name_loc,'Timestamp'].apply(lambda x: x.to_datetime().date()).tolist()\n",
    "    else:\n",
    "        print \"There was a problem with the number of 30min PRs for \", name\n",
    "        continue\n",
    "\n",
    "    try:\n",
    "        times = scores30.loc[name_loc,['10min','20min','30min','AveSplit']].iloc[0].apply(\n",
    "                                                                            lambda x: convert_split(x))\n",
    "    except ValueError:\n",
    "        # sometimes the rowers input the data incorrectly\n",
    "        print \"error with data point\"\n",
    "        print scores30.loc[name_loc,['10min','20min','30min','AveSplit']]\n",
    "        continue\n",
    "\n",
    "    trace = go.Scatter(\n",
    "        x=[10,20,30],\n",
    "        y=times.tolist()[:-1],\n",
    "        line=dict(\n",
    "            shape='spline'\n",
    "            ),\n",
    "        name=name,\n",
    "        hoverinfo='text',\n",
    "        hovertext=dates[0].strftime('%b%d')+'<br>Ave: '+times[-1].strftime('%M:%S.%f')[:-5]\n",
    "        )\n",
    "    traces.append(trace)\n",
    "\n",
    "    layout = go.Layout(\n",
    "        title = \"10min Splits\",\n",
    "        xaxis=dict(\n",
    "            title=\"Minutes\"\n",
    "            ),\n",
    "        yaxis=dict(\n",
    "            title=\"Ave Split\",\n",
    "            tickformat='%M:%S.%f'\n",
    "            )\n",
    "        )\n",
    "    \n",
    "fig = go.Figure(data=traces, layout=layout)\n",
    "link = py.plot(fig, filename = '30minPRave', auto_open=False)\n",
    "tls.get_embed(link)"
   ]
  },
  {
   "cell_type": "code",
   "execution_count": 62,
   "metadata": {
    "collapsed": false
   },
   "outputs": [
    {
     "data": {
      "text/plain": [
       "'<iframe id=\"igraph\" scrolling=\"no\" style=\"border:none;\" seamless=\"seamless\" src=\"https://plot.ly/~rodd_talebi/36.embed\" height=\"525\" width=\"100%\"></iframe>'"
      ]
     },
     "execution_count": 62,
     "metadata": {},
     "output_type": "execute_result"
    }
   ],
   "source": [
    "# 30min Timeline\n",
    "traces=[]\n",
    "for name in names:\n",
    "    name_loc = scores30['Name']==name\n",
    "    if sum(name_loc)>0:\n",
    "        times = scores30.loc[name_loc,'AveSplit'].apply(lambda x: convert_split(x))\n",
    "        dates = scores30.loc[name_loc,'Timestamp'].apply(lambda x: x.to_datetime())\n",
    "        meters = [name+\"<br>\"+str(x)+' meters' for x in scores30.loc[name_loc,'Meters']]\n",
    "        \n",
    "        trace = go.Scatter(\n",
    "            x=dates,\n",
    "            y=times,\n",
    "            line=dict(\n",
    "                shape='linear'#'spline'\n",
    "                ),\n",
    "            hoverinfo='text', #the 'text' flags tells you to look at hovertext\n",
    "            name=name,\n",
    "            hovertext = meters\n",
    "            )\n",
    "        traces.append(trace)\n",
    "    else:\n",
    "        print \"No 30min scores to report for \" + name\n",
    "\n",
    "\n",
    "layout = go.Layout(\n",
    "    title = \"30min Timeline\",\n",
    "    xaxis=dict(\n",
    "        title=\"Date\"\n",
    "        ),\n",
    "    yaxis=dict(\n",
    "        title=\"Ave Split\",\n",
    "        tickformat='%M:%S.%f'\n",
    "        )\n",
    "    )\n",
    "\n",
    "fig = go.Figure(data=traces, layout=layout)\n",
    "link = py.plot(fig, filename = '30min', auto_open=False)\n",
    "tls.get_embed(link)"
   ]
  },
  {
   "cell_type": "code",
   "execution_count": 96,
   "metadata": {
    "collapsed": false
   },
   "outputs": [
    {
     "data": {
      "text/plain": [
       "'<iframe id=\"igraph\" scrolling=\"no\" style=\"border:none;\" seamless=\"seamless\" src=\"https://plot.ly/~rodd_talebi/46.embed\" height=\"525\" width=\"100%\"></iframe>'"
      ]
     },
     "execution_count": 96,
     "metadata": {},
     "output_type": "execute_result"
    }
   ],
   "source": [
    "# 6k Averages PR\n",
    "traces=[]\n",
    "for name in names:\n",
    "    name_loc = (scores6k['Name']==name) & (scores6k['PR']==1)\n",
    "    if sum(name_loc)==1:\n",
    "        date = scores6k.loc[name_loc,'Timestamp'].apply(lambda x: x.to_datetime().date()).tolist()\n",
    "    else:\n",
    "        print \"Wrong number of PRs for \", name\n",
    "        continue\n",
    "\n",
    "    try:\n",
    "        times = scores6k.loc[name_loc,['1000m','2000m','3000m', '4000m', '5000m', '6000m', 'AveSplit']].iloc[0].apply(\n",
    "                                                                                                        lambda x: convert_split(x))\n",
    "    except ValueError:\n",
    "        print \"error with 6km erg test for\", name\n",
    "        print scores6k.loc[name_loc,['1000m','2000m','3000m', '4000m', '5000m', '6000m', 'AveSplit']]\n",
    "        continue\n",
    "\n",
    "    trace = go.Scatter(\n",
    "        x=[1000,2000,3000,4000,5000,6000],\n",
    "        y=times.tolist()[:-1],\n",
    "        line=dict(\n",
    "            shape='spline'\n",
    "            ),\n",
    "        name=name,\n",
    "        hoverinfo='text',\n",
    "        hovertext=date[0].strftime('%b%d')+'<br>Ave: '+times[-1].strftime('%M:%S.%f')[:-5]\n",
    "        )\n",
    "    traces.append(trace)\n",
    "\n",
    "    layout = go.Layout(\n",
    "        title = \"1km Splits\",\n",
    "        xaxis=dict(\n",
    "            title=\"Meters\"\n",
    "            ),\n",
    "        yaxis=dict(\n",
    "            title=\"Ave Split\",\n",
    "            tickformat='%M:%S.%f'\n",
    "            )\n",
    "        )\n",
    "    \n",
    "fig = go.Figure(data=traces, layout=layout)\n",
    "link = py.plot(fig, filename = '6kmPRave', auto_open=False)\n",
    "tls.get_embed(link)"
   ]
  },
  {
   "cell_type": "code",
   "execution_count": 61,
   "metadata": {
    "collapsed": false
   },
   "outputs": [
    {
     "data": {
      "text/plain": [
       "'<iframe id=\"igraph\" scrolling=\"no\" style=\"border:none;\" seamless=\"seamless\" src=\"https://plot.ly/~rodd_talebi/38.embed\" height=\"525\" width=\"100%\"></iframe>'"
      ]
     },
     "execution_count": 61,
     "metadata": {},
     "output_type": "execute_result"
    }
   ],
   "source": [
    "# 6km Timeline\n",
    "traces=[]\n",
    "for name in names:\n",
    "    name_loc = scores6k['Name']==name\n",
    "    if sum(name_loc)>0:\n",
    "        times = scores6k.loc[name_loc,'AveSplit'].apply(lambda x: convert_split(x))\n",
    "        dates = scores6k.loc[name_loc,'Timestamp'].apply(lambda x: x.to_datetime())\n",
    "        meters = [name+\"<br>\"+str(x)+' watts' for x in scores6k.loc[name_loc,'Watts']]\n",
    "        \n",
    "        trace = go.Scatter(\n",
    "            x=dates,\n",
    "            y=times,\n",
    "            line=dict(\n",
    "                shape='linear'\n",
    "                ),\n",
    "            hoverinfo='text', #the 'text' flags tells you to look at hovertext\n",
    "            name=name,\n",
    "            hovertext = meters\n",
    "            )\n",
    "        traces.append(trace)\n",
    "    else:\n",
    "        print \"No 6km scores to report for \" + name\n",
    "\n",
    "\n",
    "layout = go.Layout(\n",
    "    title = \"6km Timeline\",\n",
    "    xaxis=dict(\n",
    "        title=\"Date\"\n",
    "        ),\n",
    "    yaxis=dict(\n",
    "        title=\"Ave Split\",\n",
    "        tickformat='%M:%S.%f'\n",
    "        )\n",
    "    )\n",
    "\n",
    "fig = go.Figure(data=traces, layout=layout)\n",
    "link = py.plot(fig, filename = '6km', auto_open=False)\n",
    "tls.get_embed(link)"
   ]
  },
  {
   "cell_type": "code",
   "execution_count": 73,
   "metadata": {
    "collapsed": false
   },
   "outputs": [
    {
     "data": {
      "text/plain": [
       "'<iframe id=\"igraph\" scrolling=\"no\" style=\"border:none;\" seamless=\"seamless\" src=\"https://plot.ly/~rodd_talebi/40.embed\" height=\"525\" width=\"100%\"></iframe>'"
      ]
     },
     "execution_count": 73,
     "metadata": {},
     "output_type": "execute_result"
    }
   ],
   "source": [
    "# CORRECTED 6km Timeline\n",
    "traces=[]\n",
    "for name in names:\n",
    "    name_loc = (scores6k['Name']==name) & (scores6k['CorrSplit']!=\"00:00.0\")\n",
    "    if sum(name_loc)>0:\n",
    "        times = scores6k.loc[name_loc,'CorrSplit'].apply(lambda x: convert_split(x))\n",
    "        dates = scores6k.loc[name_loc,'Timestamp'].apply(lambda x: x.to_datetime())\n",
    "        meters = [name+\"<br>\"+str(x)+' watts' for x in scores6k.loc[name_loc,'Watts']]\n",
    "        \n",
    "        trace = go.Scatter(\n",
    "            x=dates,\n",
    "            y=times,\n",
    "            line=dict(\n",
    "                shape='linear'#'spline'\n",
    "                ),\n",
    "            hoverinfo='text', #the 'text' flags tells you to look at hovertext\n",
    "            name=name,\n",
    "            hovertext = meters\n",
    "            )\n",
    "        traces.append(trace)\n",
    "    else:\n",
    "        print \"No CORRECTED 6km scores to report for \" + name\n",
    "\n",
    "\n",
    "layout = go.Layout(\n",
    "    title = \"CORRECTED 6km Timeline\",\n",
    "    xaxis=dict(\n",
    "        title=\"Date\"\n",
    "        ),\n",
    "    yaxis=dict(\n",
    "        title=\"Ave Split\",\n",
    "        tickformat='%M:%S.%f'\n",
    "        )\n",
    "    )\n",
    "\n",
    "fig = go.Figure(data=traces, layout=layout)\n",
    "link = py.plot(fig, filename = 'CORR-6km', auto_open=False)\n",
    "tls.get_embed(link)"
   ]
  },
  {
   "cell_type": "code",
   "execution_count": 64,
   "metadata": {
    "collapsed": false
   },
   "outputs": [
    {
     "data": {
      "text/plain": [
       "'<iframe id=\"igraph\" scrolling=\"no\" style=\"border:none;\" seamless=\"seamless\" src=\"https://plot.ly/~rodd_talebi/42.embed\" height=\"525\" width=\"100%\"></iframe>'"
      ]
     },
     "execution_count": 64,
     "metadata": {},
     "output_type": "execute_result"
    }
   ],
   "source": [
    "# Weights Timeline\n",
    "traces = []\n",
    "for name in names:\n",
    "    name_loc = weights['Name']==name\n",
    "    if sum(name_loc) > 0:\n",
    "        display = [name+\"<br>\"+str(x) for x in weights.loc[name_loc, 'Weight (lbs)']]\n",
    "        trace = go.Scatter(\n",
    "            x=weights.loc[name_loc, 'Date'],\n",
    "            y=weights.loc[name_loc, 'Weight (lbs)'],\n",
    "            line=dict(\n",
    "                shape='spline'\n",
    "                ),\n",
    "            name=name,\n",
    "            hoverinfo='text', #the 'text' flags tells you to look at hovertext\n",
    "            hovertext = display#weights.loc[name_loc, 'Weight (lbs)']\n",
    "            )\n",
    "        traces.append(trace)\n",
    "\n",
    "layout = go.Layout(\n",
    "    title = \"Rowers Weight\",\n",
    "    xaxis=dict(\n",
    "        title=\"Date\"\n",
    "        ),\n",
    "    yaxis=dict(\n",
    "        title=\"lbs\"\n",
    "        )\n",
    "    )\n",
    "\n",
    "fig = go.Figure(data=traces, layout=layout)\n",
    "link = py.plot(fig, filename = 'Weights', auto_open=False)\n",
    "tls.get_embed(link)"
   ]
  },
  {
   "cell_type": "code",
   "execution_count": 72,
   "metadata": {
    "collapsed": false
   },
   "outputs": [
    {
     "data": {
      "text/plain": [
       "'<iframe id=\"igraph\" scrolling=\"no\" style=\"border:none;\" seamless=\"seamless\" src=\"https://plot.ly/~rodd_talebi/44.embed\" height=\"525\" width=\"100%\"></iframe>'"
      ]
     },
     "execution_count": 72,
     "metadata": {},
     "output_type": "execute_result"
    }
   ],
   "source": [
    "# Golden Curves\n",
    "# assume PRs already scored\n",
    "traces = []\n",
    "for name in names:\n",
    "    # USING 6K DATA\n",
    "    name_loc = (scores6k['Name']==name) & (scores6k['PR']==1)\n",
    "    if sum(name_loc)==1:\n",
    "        watts6k = scores6k.loc[name_loc, 'Watts']\n",
    "    else:\n",
    "        print \"ERROR: there are more than 1 (or 0) PR flags for \" + name\n",
    "    \n",
    "    goals_str = list(golden_curve(base6k=watts6k))\n",
    "    goals_split = [convert_split(x) for x in goals_str]\n",
    "    \n",
    "    # get time\n",
    "    # 2k\n",
    "    split = goals_split[2]\n",
    "    split = timedelta(minutes=split.minute, seconds=split.second, microseconds=split.microsecond)\n",
    "    pace = (split*4).total_seconds()\n",
    "    time_2k = pace/60.0\n",
    "\n",
    "    # 6k\n",
    "    split = goals_split[3]\n",
    "    split = timedelta(minutes=split.minute, seconds=split.second, microseconds=split.microsecond)\n",
    "    pace = (split*12).total_seconds()\n",
    "    time_6k = pace/60.0#now in minutes\n",
    "    \n",
    "    display=[] #info for hoverbox\n",
    "    for i, test in enumerate([\"10sec\", \"60sec\", \"2k\", \"6k\", \"60min\"]):\n",
    "        display.append(name+\"-\"+test + \"<br>\" + goals_str[i])\n",
    "        \n",
    "    trace = go.Scatter(\n",
    "        x=[10/60.0, 1.0, time_2k, time_6k, 60],\n",
    "        y=[1.73,1.53,1.00,.85,.76],\n",
    "        line=dict(\n",
    "            shape='spline'\n",
    "            ),\n",
    "        name=name,\n",
    "        hoverinfo='text', #the 'text' flags tells you to look at hovertext\n",
    "        hovertext = display\n",
    "        )\n",
    "    \n",
    "    traces.append(trace)\n",
    "\n",
    "layout = go.Layout(\n",
    "    title = \"Golden Curve\",\n",
    "    xaxis=dict(\n",
    "        title=\"Minutes\"\n",
    "        ),\n",
    "    yaxis=dict(\n",
    "        title=\"%of 2k Watts\"\n",
    "        )\n",
    "    )\n",
    "\n",
    "\n",
    "\n",
    "fig = go.Figure(data=traces, layout=layout)\n",
    "link = py.plot(fig, filename = 'GoldCurve', auto_open=False)\n",
    "tls.get_embed(link)"
   ]
  },
  {
   "cell_type": "code",
   "execution_count": 102,
   "metadata": {
    "collapsed": false
   },
   "outputs": [
    {
     "data": {
      "text/html": [
       "<div>\n",
       "<table border=\"1\" class=\"dataframe\">\n",
       "  <thead>\n",
       "    <tr style=\"text-align: right;\">\n",
       "      <th></th>\n",
       "      <th>Timestamp</th>\n",
       "      <th>Name</th>\n",
       "      <th>10min</th>\n",
       "      <th>20min</th>\n",
       "      <th>30min</th>\n",
       "      <th>AveSplit</th>\n",
       "      <th>Meters</th>\n",
       "      <th>PR</th>\n",
       "    </tr>\n",
       "  </thead>\n",
       "  <tbody>\n",
       "    <tr>\n",
       "      <th>11</th>\n",
       "      <td>2017-08-29 06:22:00</td>\n",
       "      <td>Lulu Laurane Saliou</td>\n",
       "      <td>02:16.7</td>\n",
       "      <td>02:14.5</td>\n",
       "      <td>02:12.8</td>\n",
       "      <td>02:14.6</td>\n",
       "      <td>6684</td>\n",
       "      <td>0</td>\n",
       "    </tr>\n",
       "    <tr>\n",
       "      <th>19</th>\n",
       "      <td>2017-09-12 10:48:00</td>\n",
       "      <td>Lulu Laurane Saliou</td>\n",
       "      <td>02:14.8</td>\n",
       "      <td>02:13.4</td>\n",
       "      <td>02:11.6</td>\n",
       "      <td>02:13.3</td>\n",
       "      <td>6751</td>\n",
       "      <td>0</td>\n",
       "    </tr>\n",
       "    <tr>\n",
       "      <th>41</th>\n",
       "      <td>2017-10-10 17:48:00</td>\n",
       "      <td>Lulu Laurane Saliou</td>\n",
       "      <td>02:12.3</td>\n",
       "      <td>02:08.5</td>\n",
       "      <td>02:07.3</td>\n",
       "      <td>02:09.3</td>\n",
       "      <td>6957</td>\n",
       "      <td>1</td>\n",
       "    </tr>\n",
       "    <tr>\n",
       "      <th>49</th>\n",
       "      <td>2017-10-10 18:32:00</td>\n",
       "      <td>Lulu Laurane Saliou</td>\n",
       "      <td>02:17.8</td>\n",
       "      <td>02:12.6</td>\n",
       "      <td>02:08.8</td>\n",
       "      <td>02:12.9</td>\n",
       "      <td>6767</td>\n",
       "      <td>0</td>\n",
       "    </tr>\n",
       "    <tr>\n",
       "      <th>75</th>\n",
       "      <td>2017-10-17 08:06:00</td>\n",
       "      <td>Lulu Laurane Saliou</td>\n",
       "      <td>02:14.1</td>\n",
       "      <td>02:11.6</td>\n",
       "      <td>02:10.2</td>\n",
       "      <td>02:12.0</td>\n",
       "      <td>6817</td>\n",
       "      <td>0</td>\n",
       "    </tr>\n",
       "    <tr>\n",
       "      <th>79</th>\n",
       "      <td>2017-10-17 08:45:00</td>\n",
       "      <td>Lulu Laurane Saliou</td>\n",
       "      <td>02:22.0</td>\n",
       "      <td>02:15.5</td>\n",
       "      <td>02:10.8</td>\n",
       "      <td>02:15.9</td>\n",
       "      <td>6618</td>\n",
       "      <td>0</td>\n",
       "    </tr>\n",
       "    <tr>\n",
       "      <th>98</th>\n",
       "      <td>2017-12-04 06:36:00</td>\n",
       "      <td>Lulu Laurane Saliou</td>\n",
       "      <td>02:14.4</td>\n",
       "      <td>02:10.4</td>\n",
       "      <td>02:07.9</td>\n",
       "      <td>02:10.8</td>\n",
       "      <td>6876</td>\n",
       "      <td>0</td>\n",
       "    </tr>\n",
       "    <tr>\n",
       "      <th>105</th>\n",
       "      <td>2017-12-04 07:23:00</td>\n",
       "      <td>Lulu Laurane Saliou</td>\n",
       "      <td>02:18.6</td>\n",
       "      <td>02:13.2</td>\n",
       "      <td>02:09.1</td>\n",
       "      <td>02:13.5</td>\n",
       "      <td>6737</td>\n",
       "      <td>0</td>\n",
       "    </tr>\n",
       "  </tbody>\n",
       "</table>\n",
       "</div>"
      ],
      "text/plain": [
       "              Timestamp                 Name    10min    20min    30min  \\\n",
       "11  2017-08-29 06:22:00  Lulu Laurane Saliou  02:16.7  02:14.5  02:12.8   \n",
       "19  2017-09-12 10:48:00  Lulu Laurane Saliou  02:14.8  02:13.4  02:11.6   \n",
       "41  2017-10-10 17:48:00  Lulu Laurane Saliou  02:12.3  02:08.5  02:07.3   \n",
       "49  2017-10-10 18:32:00  Lulu Laurane Saliou  02:17.8  02:12.6  02:08.8   \n",
       "75  2017-10-17 08:06:00  Lulu Laurane Saliou  02:14.1  02:11.6  02:10.2   \n",
       "79  2017-10-17 08:45:00  Lulu Laurane Saliou  02:22.0  02:15.5  02:10.8   \n",
       "98  2017-12-04 06:36:00  Lulu Laurane Saliou  02:14.4  02:10.4  02:07.9   \n",
       "105 2017-12-04 07:23:00  Lulu Laurane Saliou  02:18.6  02:13.2  02:09.1   \n",
       "\n",
       "    AveSplit  Meters  PR  \n",
       "11   02:14.6    6684   0  \n",
       "19   02:13.3    6751   0  \n",
       "41   02:09.3    6957   1  \n",
       "49   02:12.9    6767   0  \n",
       "75   02:12.0    6817   0  \n",
       "79   02:15.9    6618   0  \n",
       "98   02:10.8    6876   0  \n",
       "105  02:13.5    6737   0  "
      ]
     },
     "execution_count": 102,
     "metadata": {},
     "output_type": "execute_result"
    }
   ],
   "source": [
    "scores30.loc[scores30['Name']==names[0]]"
   ]
  },
  {
   "cell_type": "code",
   "execution_count": null,
   "metadata": {
    "collapsed": true
   },
   "outputs": [],
   "source": []
  }
 ],
 "metadata": {
  "anaconda-cloud": {},
  "kernelspec": {
   "display_name": "Python [Root]",
   "language": "python",
   "name": "Python [Root]"
  },
  "language_info": {
   "codemirror_mode": {
    "name": "ipython",
    "version": 2
   },
   "file_extension": ".py",
   "mimetype": "text/x-python",
   "name": "python",
   "nbconvert_exporter": "python",
   "pygments_lexer": "ipython2",
   "version": "2.7.12"
  }
 },
 "nbformat": 4,
 "nbformat_minor": 2
}
